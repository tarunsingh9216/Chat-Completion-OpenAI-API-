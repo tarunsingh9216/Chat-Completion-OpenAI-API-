{
 "cells": [
  {
   "cell_type": "code",
   "execution_count": 5,
   "id": "4c0c03ac",
   "metadata": {},
   "outputs": [],
   "source": [
    "from openai import OpenAI\n",
    "import os"
   ]
  },
  {
   "cell_type": "code",
   "execution_count": 6,
   "id": "c0da3a78",
   "metadata": {},
   "outputs": [],
   "source": [
    "client = OpenAI()"
   ]
  },
  {
   "cell_type": "code",
   "execution_count": 8,
   "id": "8e531c87",
   "metadata": {},
   "outputs": [],
   "source": [
    "prompt = input(\"Enter you prompt\")\n",
    "\n",
    "completion = client.chat.completions.create(\n",
    "    model = \"gpt-3.5-turbo\",\n",
    "    messages=[\n",
    "        {\"role\":\"system\",\"content\":\"You are a helpful assistant\"},\n",
    "        {\"role\":\"user\", \"content\":prompt}\n",
    "    ]\n",
    ")"
   ]
  },
  {
   "cell_type": "markdown",
   "id": "904978cc",
   "metadata": {},
   "source": [
    "# Sentiment Analysis"
   ]
  },
  {
   "cell_type": "code",
   "execution_count": 1,
   "id": "9e71d2ff",
   "metadata": {},
   "outputs": [],
   "source": [
    "prompt1 = input(\"Enter your sentiment prompt heare = \")\n",
    "completion = client.chat.completions.create(\n",
    "    model = \"gpt-3.5-turbo\",\n",
    "    messages = [\n",
    "        {\"role\":\"system\", \"content\":\"Classify user messages as positive or negative\"},\n",
    "        {\"role\":\"user\", \"content\":prompt1}\n",
    "    ]\n",
    ")\n",
    "print(\"\\n\" + completion.choices[0].message.content)\n",
    "print(completion)"
   ]
  },
  {
   "cell_type": "markdown",
   "id": "104043aa",
   "metadata": {},
   "source": [
    "# Temprature Control"
   ]
  },
  {
   "cell_type": "code",
   "execution_count": 4,
   "id": "fa84dead",
   "metadata": {},
   "outputs": [],
   "source": [
    "print(\"\\n Tell me a joke (With low temprature)\")\n",
    "completion = client.chat.completions.create(\n",
    "    model = \"gpt-3.5-turbo\",\n",
    "    temperature = 0.2,\n",
    "    messages = [\n",
    "        {\"role\":\"system\", \"content\":\"You are a helpfull assistant\"},\n",
    "        {\"role\":\"user\", \"content\":\"Tell me a joke\"}\n",
    "    ]\n",
    ")\n",
    "\n",
    "print(\"\\n\" + completion.choices[0].message.content)"
   ]
  },
  {
   "cell_type": "code",
   "execution_count": null,
   "id": "ff5276f4",
   "metadata": {},
   "outputs": [],
   "source": []
  },
  {
   "cell_type": "code",
   "execution_count": null,
   "id": "a27b8bd0",
   "metadata": {},
   "outputs": [],
   "source": []
  },
  {
   "cell_type": "code",
   "execution_count": null,
   "id": "37db4812",
   "metadata": {},
   "outputs": [],
   "source": []
  }
 ],
 "metadata": {
  "kernelspec": {
   "display_name": "Python 3 (ipykernel)",
   "language": "python",
   "name": "python3"
  },
  "language_info": {
   "codemirror_mode": {
    "name": "ipython",
    "version": 3
   },
   "file_extension": ".py",
   "mimetype": "text/x-python",
   "name": "python",
   "nbconvert_exporter": "python",
   "pygments_lexer": "ipython3",
   "version": "3.11.4"
  }
 },
 "nbformat": 4,
 "nbformat_minor": 5
}
